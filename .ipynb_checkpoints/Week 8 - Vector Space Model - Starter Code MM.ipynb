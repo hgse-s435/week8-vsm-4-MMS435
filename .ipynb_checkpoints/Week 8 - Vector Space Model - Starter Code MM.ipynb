{
 "cells": [
  {
   "cell_type": "markdown",
   "metadata": {},
   "source": [
    "# Week 5 - Vector Space Model (VSM) and Topic Modeling"
   ]
  },
  {
   "cell_type": "markdown",
   "metadata": {},
   "source": [
    "Over the next weeks, we are going to re-implement Sherin's algorithm and apply it to the text data we've been working on last week! Here's our roadmap:\n",
    "\n",
    "**Week 8 - Visualizing the results**\n",
    "10. create visualizations to compare documents"
   ]
  },
  {
   "cell_type": "markdown",
   "metadata": {},
   "source": [
    "# WEEK 5 - DATA CLEANING"
   ]
  },
  {
   "cell_type": "markdown",
   "metadata": {},
   "source": [
    "## Step 1 - Data Retrieval"
   ]
  },
  {
   "cell_type": "code",
   "execution_count": null,
   "metadata": {},
   "outputs": [],
   "source": [
    "# using glob, find all the text files in the \"Papers\" folder\n",
    "import glob\n",
    "\n",
    "files = glob.glob('./Papers/*.txt')\n",
    "print(files)"
   ]
  },
  {
   "cell_type": "code",
   "execution_count": 2,
   "metadata": {},
   "outputs": [],
   "source": [
    "# get all the data from the text files into the \"documents\" list\n",
    "# P.S. make sure you use the 'utf-8' encoding\n",
    "documents = []\n",
    "\n",
    "for filename in files: \n",
    "    with open (filename, \"r\", encoding='utf-8') as f:\n",
    "        documents.append(f.read())"
   ]
  },
  {
   "cell_type": "code",
   "execution_count": 3,
   "metadata": {},
   "outputs": [
    {
     "ename": "IndexError",
     "evalue": "list index out of range",
     "output_type": "error",
     "traceback": [
      "\u001b[0;31m---------------------------------------------------------------------------\u001b[0m",
      "\u001b[0;31mIndexError\u001b[0m                                Traceback (most recent call last)",
      "\u001b[0;32m<ipython-input-3-48c4330a9101>\u001b[0m in \u001b[0;36m<module>\u001b[0;34m\u001b[0m\n\u001b[1;32m      1\u001b[0m \u001b[0;31m# print the first 1000 characters of the first document to see what it\u001b[0m\u001b[0;34m\u001b[0m\u001b[0;34m\u001b[0m\u001b[0;34m\u001b[0m\u001b[0m\n\u001b[1;32m      2\u001b[0m \u001b[0;31m# looks like (we'll use this as a sanity check below)\u001b[0m\u001b[0;34m\u001b[0m\u001b[0;34m\u001b[0m\u001b[0;34m\u001b[0m\u001b[0m\n\u001b[0;32m----> 3\u001b[0;31m \u001b[0mdocuments\u001b[0m\u001b[0;34m[\u001b[0m\u001b[0;36m0\u001b[0m\u001b[0;34m]\u001b[0m\u001b[0;34m[\u001b[0m\u001b[0;34m:\u001b[0m\u001b[0;36m1500\u001b[0m\u001b[0;34m]\u001b[0m\u001b[0;34m\u001b[0m\u001b[0;34m\u001b[0m\u001b[0m\n\u001b[0m",
      "\u001b[0;31mIndexError\u001b[0m: list index out of range"
     ]
    }
   ],
   "source": [
    "# print the first 1000 characters of the first document to see what it \n",
    "# looks like (we'll use this as a sanity check below)\n",
    "documents[0][:1500]"
   ]
  },
  {
   "cell_type": "markdown",
   "metadata": {},
   "source": [
    "## Step 2 - Data Cleaning"
   ]
  },
  {
   "cell_type": "code",
   "execution_count": null,
   "metadata": {},
   "outputs": [],
   "source": [
    "# only select the text that's between the first occurence of the \n",
    "# the word \"abstract\" and the last occurence of the word \"reference\"\n",
    "# Optional: print the length of the string before and after, as a \n",
    "# sanity check\n",
    "# HINT: https://stackoverflow.com/questions/14496006/finding-last-occurrence-of-substring-in-string-replacing-that\n",
    "# read more about rfind: https://www.tutorialspoint.com/python/string_rfind.htm\n",
    "\n",
    "for i,doc in enumerate(documents):\n",
    "    print(len(documents[i]), end=' ')\n",
    "    # only keep the text after the abstract\n",
    "    doc = doc[doc.index('abstract'):doc.rfind('reference')]\n",
    "    # save the result\n",
    "    documents[i] = doc\n",
    "    # print the length of the resulting string\n",
    "    print(len(documents[i]))\n",
    "    \n",
    "# one liner:\n",
    "# documents = [doc[doc.index('abstract'):doc.rfind('reference')] for doc in documents]"
   ]
  },
  {
   "cell_type": "code",
   "execution_count": null,
   "metadata": {},
   "outputs": [],
   "source": [
    "# replace carriage returns (i.e., \"\\n\") with a white space\n",
    "# check that the result looks okay by printing the \n",
    "# first 1000 characters of the 1st doc:\n",
    "\n",
    "documents = [doc.replace('\\n', ' ') for doc in documents]\n",
    "print(documents[0][:1000])"
   ]
  },
  {
   "cell_type": "code",
   "execution_count": null,
   "metadata": {},
   "outputs": [],
   "source": [
    "# replace the punctation below by a white space\n",
    "# check that the result looks okay \n",
    "# (e.g., by print the first 1000 characters of the 1st doc)\n",
    "\n",
    "punctuation = ['.', '...', '!', '#', '\"', '%', '$', \"'\", '&', ')', \n",
    "               '(', '+', '*', '-', ',', '/', '.', ';', ':', '=', \n",
    "               '<', '?', '>', '@', '\",', '\".', '[', ']', '\\\\', ',',\n",
    "               '_', '^', '`', '{', '}', '|', '~', '−', '”', '“', '’']\n",
    "\n",
    "\n",
    "# remove ponctuation\n",
    "for i,doc in enumerate(documents): \n",
    "    for punc in punctuation: \n",
    "        doc = doc.replace(punc, ' ')\n",
    "    documents[i] = doc\n",
    "    \n",
    "print(documents[0][:1000])"
   ]
  },
  {
   "cell_type": "code",
   "execution_count": null,
   "metadata": {},
   "outputs": [],
   "source": [
    "# remove numbers by either a white space or the word \"number\"\n",
    "# again, print the first 1000 characters of the first document\n",
    "# to check that you're doing the right thing\n",
    "for i,doc in enumerate(documents): \n",
    "    for num in range(10):\n",
    "        doc = doc.replace(str(num), '')\n",
    "    documents[i] = doc\n",
    "\n",
    "print(documents[1][:1000])"
   ]
  },
  {
   "cell_type": "code",
   "execution_count": null,
   "metadata": {},
   "outputs": [],
   "source": [
    "# Remove the stop words below from our documents\n",
    "# print the first 1000 characters of the first document\n",
    "stop_words = ['i', 'me', 'my', 'myself', 'we', 'our', 'ours', \n",
    "              'ourselves', 'you', 'your', 'yours', 'yourself', \n",
    "              'yourselves', 'he', 'him', 'his', 'himself', 'she', \n",
    "              'her', 'hers', 'herself', 'it', 'its', 'itself', \n",
    "              'they', 'them', 'their', 'theirs', 'themselves', \n",
    "              'what', 'which', 'who', 'whom', 'this', 'that', \n",
    "              'these', 'those', 'am', 'is', 'are', 'was', 'were', \n",
    "              'be', 'been', 'being', 'have', 'has', 'had', 'having', \n",
    "              'do', 'does', 'did', 'doing', 'a', 'an', 'the', 'and', \n",
    "              'but', 'if', 'or', 'because', 'as', 'until', 'while', \n",
    "              'of', 'at', 'by', 'for', 'with', 'about', 'against', \n",
    "              'between', 'into', 'through', 'during', 'before', \n",
    "              'after', 'above', 'below', 'to', 'from', 'up', 'down', \n",
    "              'in', 'out', 'on', 'off', 'over', 'under', 'again', \n",
    "              'further', 'then', 'once', 'here', 'there', 'when', \n",
    "              'where', 'why', 'how', 'all', 'any', 'both', 'each', \n",
    "              'few', 'more', 'most', 'other', 'some', 'such', 'no', \n",
    "              'nor', 'not', 'only', 'own', 'same', 'so', 'than', \n",
    "              'too', 'very', 's', 't', 'can', 'will', \n",
    "              'just', 'don', 'should', 'now']\n",
    "\n",
    "\n",
    "# remove stop words\n",
    "for i,doc in enumerate(documents):\n",
    "    for stop_word in stop_words:\n",
    "        doc = doc.replace(' ' + stop_word + ' ', ' ')\n",
    "    documents[i] = doc\n",
    "\n",
    "print(documents[0][:1000])"
   ]
  },
  {
   "cell_type": "code",
   "execution_count": null,
   "metadata": {},
   "outputs": [],
   "source": [
    "# remove words with one and two characters (e.g., 'd', 'er', etc.)\n",
    "# print the first 1000 characters of the first document\n",
    "\n",
    "for i,doc in enumerate(documents):  \n",
    "    doc = [x for x in doc.split() if len(x) > 2]\n",
    "    doc = \" \".join(doc)\n",
    "    documents[i] = doc\n",
    "\n",
    "print(documents[0][:1000])"
   ]
  },
  {
   "cell_type": "markdown",
   "metadata": {},
   "source": [
    "\n",
    "### Putting it all together"
   ]
  },
  {
   "cell_type": "code",
   "execution_count": null,
   "metadata": {},
   "outputs": [],
   "source": [
    "# package all of your work above into a function that cleans a given document\n",
    "\n",
    "def clean_list_of_documents(documents):\n",
    "    \n",
    "    cleaned_docs = []\n",
    "\n",
    "    for i,doc in enumerate(documents):\n",
    "        # only keep the text after the abstract\n",
    "        doc = doc[doc.index('abstract'):]\n",
    "        # only keep the text before the references\n",
    "        doc = doc[:doc.rfind('reference')]\n",
    "        # replace return carriage with white space\n",
    "        doc = doc.replace('\\n', ' ')\n",
    "        # remove ponctuation\n",
    "        for punc in punctuation: \n",
    "            doc = doc.replace(punc, ' ')\n",
    "        # remove numbers\n",
    "        for i in range(10):\n",
    "            doc = doc.replace(str(i), ' ')\n",
    "        # remove stop words\n",
    "        for stop_word in stop_words:\n",
    "            doc = doc.replace(' ' + stop_word + ' ', ' ')\n",
    "        # remove single characters and stem the words \n",
    "        doc = [x for x in doc.split() if len(x) > 2]\n",
    "        doc = \" \".join(doc)\n",
    "        # save the result to our list of documents\n",
    "        cleaned_docs.append(doc)\n",
    "        \n",
    "    return cleaned_docs"
   ]
  },
  {
   "cell_type": "code",
   "execution_count": null,
   "metadata": {},
   "outputs": [],
   "source": [
    "# reimport your raw data\n",
    "documents = []\n",
    "\n",
    "for filename in files: \n",
    "    with open (filename, \"r\", encoding='utf-8') as f:\n",
    "        documents.append(f.read())\n",
    "        \n",
    "# clean your files using the function above\n",
    "docs = clean_list_of_documents(documents)\n",
    "\n",
    "# print the first 1000 characters of the first document\n",
    "print(docs[0][:1000])"
   ]
  },
  {
   "cell_type": "markdown",
   "metadata": {},
   "source": [
    "## Step 3 - Build your list of vocabulary"
   ]
  },
  {
   "cell_type": "markdown",
   "metadata": {},
   "source": [
    "This list of words (i.e., the vocabulary) is going to become the columns of your matrix."
   ]
  },
  {
   "cell_type": "code",
   "execution_count": null,
   "metadata": {},
   "outputs": [],
   "source": [
    "import math\n",
    "import numpy as np"
   ]
  },
  {
   "cell_type": "code",
   "execution_count": null,
   "metadata": {},
   "outputs": [],
   "source": [
    "# create a function that takes in a list of documents\n",
    "# and returns a set of unique words. Make sure that you\n",
    "# sort the list alphabetically before returning it. \n",
    "\n",
    "def get_vocabulary(docs):\n",
    "    voc = []\n",
    "    for doc in docs:\n",
    "        for word in doc.split():\n",
    "            if word not in voc: \n",
    "                voc.append(word)\n",
    "    voc = list(set(voc))\n",
    "    voc.sort()\n",
    "    return voc\n",
    "\n",
    "# Then print the length of your vocabulary (it should be \n",
    "# around 5500 words)\n",
    "vocabulary = get_vocabulary(docs)\n",
    "print(len(vocabulary))"
   ]
  },
  {
   "cell_type": "markdown",
   "metadata": {},
   "source": [
    "## Step 4 - transform your documents in to 100-words chunks"
   ]
  },
  {
   "cell_type": "code",
   "execution_count": null,
   "metadata": {},
   "outputs": [],
   "source": [
    "# create a function that takes in a list of documents\n",
    "# and returns a list of 100-words chunk \n",
    "# (with a 25 words overlap between them)\n",
    "# Optional: add two arguments, one for the number of words\n",
    "# in each chunk, and one for the overlap\n",
    "\n",
    "def flatten_and_overlap(docs, window_size=100, overlap=25):\n",
    "    \n",
    "    # create the list of overlapping documents\n",
    "    new_list_of_documents = []\n",
    "    \n",
    "    # flatten everything into one string\n",
    "    flat = \"\"\n",
    "    for doc in docs:\n",
    "        flat += doc\n",
    "    \n",
    "    # split into words\n",
    "    flat = flat.split()\n",
    "\n",
    "    # create chunks of 100 words\n",
    "    high = window_size\n",
    "    while high < len(flat):\n",
    "        low = high - window_size\n",
    "        new_list_of_documents.append(flat[low:high])\n",
    "        high += overlap\n",
    "    return new_list_of_documents\n",
    "\n",
    "chunks = flatten_and_overlap(docs)"
   ]
  },
  {
   "cell_type": "code",
   "execution_count": null,
   "metadata": {},
   "outputs": [],
   "source": [
    "# create a for loop to double check that each chunk has \n",
    "# a length of 100\n",
    "# Optional: use assert to do this check\n",
    "for chunk in chunks: \n",
    "    assert(len(chunk) == 100)"
   ]
  },
  {
   "cell_type": "markdown",
   "metadata": {},
   "source": [
    "# WEEK 6 - VECTOR MANIPULATION"
   ]
  },
  {
   "cell_type": "markdown",
   "metadata": {},
   "source": [
    "## Step 5 - Create a word by document matrix"
   ]
  },
  {
   "cell_type": "code",
   "execution_count": null,
   "metadata": {},
   "outputs": [],
   "source": [
    "# 1) create an empty dataframe using pandas\n",
    "# the number of rows should be the number of chunks we have\n",
    "# the number of columns should be size of the vocabulary\n",
    "import pandas as pd\n",
    "df = pd.DataFrame(0, index=np.arange(len(chunks)), columns=vocabulary)\n",
    "df.info()"
   ]
  },
  {
   "cell_type": "code",
   "execution_count": null,
   "metadata": {},
   "outputs": [],
   "source": [
    "# 4) Putting it together: create a function that takes a list of documents\n",
    "# and a vocabulary as arguments, and returns a dataframe with the counts\n",
    "# of words: \n",
    "def docs_by_words_df(chunks, vocabulary):\n",
    "    df = pd.DataFrame(0, index=np.arange(len(chunks)), columns=vocabulary)\n",
    "    \n",
    "    # fill out the matrix with counts\n",
    "    for i,chunk in enumerate(chunks):\n",
    "        for word in chunk:\n",
    "            if word in df.columns: \n",
    "                df.loc[i,word] += 1\n",
    "            \n",
    "    return df\n",
    "\n",
    "# call the function and check that the resulting dataframe is correct\n",
    "df = docs_by_words_df(chunks, vocabulary)\n",
    "df.loc[0,'wandering']"
   ]
  },
  {
   "cell_type": "markdown",
   "metadata": {},
   "source": [
    "## Step 6 - Weight word frequency"
   ]
  },
  {
   "cell_type": "code",
   "execution_count": null,
   "metadata": {},
   "outputs": [],
   "source": [
    "# 5) create a function that adds one to the current cell and takes its log\n",
    "# IF the value in the cell is not zero\n",
    "def one_plus_log(cell):\n",
    "    if cell != 0: \n",
    "        return 1 + math.log(cell)\n",
    "    else:\n",
    "        return 0"
   ]
  },
  {
   "cell_type": "code",
   "execution_count": null,
   "metadata": {},
   "outputs": [],
   "source": [
    "# 6) use the \"applymap\" function of the dataframe to apply the function \n",
    "# above to each cell of the table\n",
    "df_log = df.applymap(one_plus_log)"
   ]
  },
  {
   "cell_type": "code",
   "execution_count": null,
   "metadata": {},
   "outputs": [],
   "source": [
    "def one_plus_log_mat(df):\n",
    "    df = df.applymap(one_plus_log)\n",
    "    return df.values"
   ]
  },
  {
   "cell_type": "code",
   "execution_count": null,
   "metadata": {},
   "outputs": [],
   "source": [
    "# 7) check that the numbers in the resulting matrix look accurate;\n",
    "# print the value before and after applying the function above\n",
    "print(\"before one + log: \", df.loc[0,'wandering'])\n",
    "print(\"after one + log: \", 1 + math.log(df.loc[0,'wandering']))\n",
    "print(\"Value in the dataframe: \", df_log.loc[0,'wandering'])"
   ]
  },
  {
   "cell_type": "markdown",
   "metadata": {},
   "source": [
    "## Step 7 - Matrix normalization"
   ]
  },
  {
   "cell_type": "code",
   "execution_count": null,
   "metadata": {},
   "outputs": [],
   "source": [
    "# 8) look at the image below; why do you think that we need to normalize our \n",
    "# data before clustering in this particular case? "
   ]
  },
  {
   "cell_type": "markdown",
   "metadata": {},
   "source": [
    "<img src=\"https://i.stack.imgur.com/N2unM.png\" />"
   ]
  },
  {
   "cell_type": "markdown",
   "metadata": {},
   "source": [
    "In general, it's common practice to normalize your data before clustering - so that variables are comparable."
   ]
  },
  {
   "cell_type": "code",
   "execution_count": null,
   "metadata": {},
   "outputs": [],
   "source": [
    "# 9) describe how the min-max normalization works:"
   ]
  },
  {
   "cell_type": "markdown",
   "metadata": {},
   "source": [
    "<img src=\"https://docs.microsoft.com/en-us/azure/machine-learning/studio-module-reference/media/aml-normalization-minmax.png\" />"
   ]
  },
  {
   "cell_type": "code",
   "execution_count": null,
   "metadata": {},
   "outputs": [],
   "source": [
    "# 10) describe how normalizing using a z-score works:"
   ]
  },
  {
   "cell_type": "markdown",
   "metadata": {},
   "source": [
    "<img src=\"https://cdn-images-1.medium.com/max/1600/1*13XKCXQc7eabfZbRzkvGvA.gif\"/>"
   ]
  },
  {
   "cell_type": "code",
   "execution_count": null,
   "metadata": {},
   "outputs": [],
   "source": [
    "# 11) describe how normalizing to unit norm works"
   ]
  },
  {
   "cell_type": "markdown",
   "metadata": {},
   "source": [
    "Resources: \n",
    "* https://scikit-learn.org/stable/modules/generated/sklearn.preprocessing.Normalizer.html#sklearn.preprocessing.Normalizer\n",
    "* http://mathworld.wolfram.com/NormalVector.html"
   ]
  },
  {
   "cell_type": "markdown",
   "metadata": {},
   "source": [
    "We are going to work with some pre-made normalization functions from sklearn (feel free to skim this page):\n",
    "* https://scikit-learn.org/stable/modules/classes.html#module-sklearn.preprocessing"
   ]
  },
  {
   "cell_type": "code",
   "execution_count": null,
   "metadata": {},
   "outputs": [],
   "source": [
    "# 12) since we are working with vectors, apply the Normalizer from \n",
    "# sklearn.preprocessing to our dataframe. Print a few values \n",
    "# before and after to make sure you've applied the normalization\n",
    "from sklearn.preprocessing import Normalizer\n",
    "\n",
    "scaler = Normalizer()\n",
    "df_log[df_log.columns] = scaler.fit_transform(df_log[df_log.columns])\n",
    "df_log[df_log.columns[500:600]]"
   ]
  },
  {
   "cell_type": "code",
   "execution_count": null,
   "metadata": {},
   "outputs": [],
   "source": [
    "# 13) create a function that takes a dataframe as argument and where a second\n",
    "# argument is the type of normalization (MinMaxScaler, Normalizer, StandardScaler)\n",
    "# and returns the normalized dataframe\n",
    "from sklearn.preprocessing import MinMaxScaler, Normalizer, StandardScaler\n",
    "\n",
    "def normalize_df(df, method='Normalizer'):\n",
    "    \n",
    "    # choose the normalization strategy\n",
    "    scaler = None\n",
    "    if method == 'Normalizer': scaler = Normalizer()\n",
    "    if method == 'MinMaxScaler': scaler = MinMaxScaler()\n",
    "    if method == 'StandardScaler': scaler = StandardScaler()\n",
    "        \n",
    "    # apply the normalization\n",
    "    if scaler != None:\n",
    "        df[df.columns] = scaler.fit_transform(df[df.columns])\n",
    "\n",
    "    # return the resulting dataframe\n",
    "    return df"
   ]
  },
  {
   "cell_type": "markdown",
   "metadata": {},
   "source": [
    "## Step 8 - Deviation Vectors"
   ]
  },
  {
   "cell_type": "markdown",
   "metadata": {},
   "source": [
    "<img src=\"https://www.dropbox.com/s/9f73r7pk7bi7vh9/deviation_vectors.png?dl=1\" />"
   ]
  },
  {
   "cell_type": "code",
   "execution_count": null,
   "metadata": {},
   "outputs": [],
   "source": [
    "# 14) compute the sum of the vectors\n",
    "v_sum = np.sum(df_log.values, axis=0)"
   ]
  },
  {
   "cell_type": "code",
   "execution_count": null,
   "metadata": {},
   "outputs": [],
   "source": [
    "# 15) normalize the vector (find its average)\n",
    "def vector_length(u):\n",
    "    return np.sqrt(np.dot(u, u))\n",
    "\n",
    "def length_norm(u):\n",
    "    return u / vector_length(u)\n",
    "\n",
    "v_avg = length_norm(v_sum)"
   ]
  },
  {
   "cell_type": "code",
   "execution_count": null,
   "metadata": {},
   "outputs": [],
   "source": [
    "# 16) take each vector and subtract its components along v_avg\n",
    "\n",
    "matrix = df_log.values\n",
    "\n",
    "for row in range(df_log.shape[0]):\n",
    "\n",
    "    # this is one vector (row\n",
    "    v_i = matrix[row,:]\n",
    "\n",
    "    # we subtract its component along v_average\n",
    "    scalar = np.dot(v_i,v_avg)\n",
    "    sub = v_avg * scalar\n",
    "\n",
    "    # we replace the row by the deviation vector\n",
    "    matrix[row,:] = length_norm(v_i - sub)"
   ]
  },
  {
   "cell_type": "code",
   "execution_count": null,
   "metadata": {},
   "outputs": [],
   "source": [
    "# 17) put the code above in a function that takes in a dataframe as an argument\n",
    "# and computes deviation vectors of each row (=document)\n",
    "def vector_length(u):\n",
    "    return np.sqrt(np.dot(u, u))\n",
    "\n",
    "def length_norm(u):\n",
    "    return u / vector_length(u)\n",
    "\n",
    "def transform_deviation_vectors(df):\n",
    "    \n",
    "    # get the numpy matrix from the df\n",
    "    matrix = df.values\n",
    "    \n",
    "    # compute the sum of the vectors\n",
    "    v_sum = np.sum(matrix, axis=0)\n",
    "    \n",
    "    # normalize this vector (find its average)\n",
    "    v_avg = length_norm(v_sum)\n",
    "    \n",
    "    # we iterate through each vector\n",
    "    for row in range(df_log.shape[0]):\n",
    "        \n",
    "        # this is one vector (row\n",
    "        v_i = matrix[row,:]\n",
    "        \n",
    "        # we subtract its component along v_average\n",
    "        scalar = np.dot(v_i,v_avg)\n",
    "        sub = v_avg * scalar\n",
    "        \n",
    "        # we replace the row by the deviation vector\n",
    "        matrix[row,:] = length_norm(v_i - sub)\n",
    "    \n",
    "    return df"
   ]
  },
  {
   "cell_type": "code",
   "execution_count": null,
   "metadata": {},
   "outputs": [],
   "source": [
    "df = transform_deviation_vectors(df_log)"
   ]
  },
  {
   "cell_type": "markdown",
   "metadata": {},
   "source": [
    "# WEEK 7 - CLUSTERING"
   ]
  },
  {
   "cell_type": "markdown",
   "metadata": {},
   "source": [
    "## Step 9 - Clustering"
   ]
  },
  {
   "cell_type": "markdown",
   "metadata": {},
   "source": [
    "### Figuring out how many clusters we should pick"
   ]
  },
  {
   "cell_type": "markdown",
   "metadata": {},
   "source": [
    "1) Plot the inertia of kmeans using this example from datacamp: \n",
    "* https://campus.datacamp.com/courses/unsupervised-learning-in-python/clustering-for-dataset-exploration?ex=6"
   ]
  },
  {
   "cell_type": "code",
   "execution_count": null,
   "metadata": {},
   "outputs": [],
   "source": [
    "# 1a) create a list of inertia values for k 1-10\n",
    "from sklearn.cluster import KMeans\n",
    "\n",
    "ks = list(range(1, 10))\n",
    "inertias = []\n",
    "\n",
    "for k in ks:\n",
    "    \n",
    "    # Create a KMeans instance with k clusters: model\n",
    "    kmeans = KMeans(n_clusters=k, max_iter=1000)\n",
    "    \n",
    "    # Fit model to samples\n",
    "    kmeans.fit(df.values)\n",
    "    \n",
    "    # Append the inertia to the list of inertias\n",
    "    inertias.append(kmeans.inertia_)"
   ]
  },
  {
   "cell_type": "code",
   "execution_count": null,
   "metadata": {},
   "outputs": [],
   "source": [
    "# 1b) plot the inertia values using matplotlib\n",
    "import matplotlib.pyplot as plt\n",
    "\n",
    "%matplotlib inline\n",
    "\n",
    "# Plot ks vs inertias\n",
    "plt.plot(ks, inertias, '-o')\n",
    "plt.xlabel('number of clusters, k')\n",
    "plt.ylabel('inertia')\n",
    "plt.xticks(ks)\n",
    "plt.show()"
   ]
  },
  {
   "cell_type": "markdown",
   "metadata": {},
   "source": [
    "1c) What can you conclude from the elbow method?"
   ]
  },
  {
   "cell_type": "markdown",
   "metadata": {},
   "source": [
    "2) Visualize your data using T-SNE\n",
    "* https://campus.datacamp.com/courses/unsupervised-learning-in-python/visualization-with-hierarchical-clustering-and-t-sne?ex=11\n",
    "* https://www.datacamp.com/community/tutorials/introduction-t-sne\n"
   ]
  },
  {
   "cell_type": "code",
   "execution_count": null,
   "metadata": {},
   "outputs": [],
   "source": [
    "# 2a) plot the T-SNE graph using a learning rate of 200\n",
    "from sklearn.manifold import TSNE\n",
    "\n",
    "# Create a TSNE instance: model\n",
    "model = TSNE(learning_rate=200)\n",
    "\n",
    "# Apply fit_transform to samples: tsne_features\n",
    "tsne_features = model.fit_transform(df.values)\n",
    "\n",
    "# Select the 0th feature: xs\n",
    "xs = tsne_features[:,0]\n",
    "\n",
    "# Select the 1st feature: ys\n",
    "ys = tsne_features[:,1]\n",
    "\n",
    "# Scatter plot\n",
    "plt.scatter(xs,ys)\n",
    "plt.show()"
   ]
  },
  {
   "cell_type": "markdown",
   "metadata": {},
   "source": [
    "2b) What can you conclude from T-SNE?"
   ]
  },
  {
   "cell_type": "markdown",
   "metadata": {},
   "source": [
    "Note: T-SNE is great, but there is also some controversy on how much you should trust this algorithm:\n",
    "* [Shortcomings of T-SNE](https://stats.stackexchange.com/questions/270391/should-dimensionality-reduction-for-visualization-be-considered-a-closed-probl)\n",
    "* [Limitations of T-SNE](https://stats.stackexchange.com/questions/263539/clustering-on-the-output-of-t-sne)"
   ]
  },
  {
   "cell_type": "markdown",
   "metadata": {},
   "source": [
    "### Kmeans"
   ]
  },
  {
   "cell_type": "code",
   "execution_count": 4,
   "metadata": {},
   "outputs": [
    {
     "ename": "NameError",
     "evalue": "name 'KMeans' is not defined",
     "output_type": "error",
     "traceback": [
      "\u001b[0;31m---------------------------------------------------------------------------\u001b[0m",
      "\u001b[0;31mNameError\u001b[0m                                 Traceback (most recent call last)",
      "\u001b[0;32m<ipython-input-4-7391bc7d67a5>\u001b[0m in \u001b[0;36m<module>\u001b[0;34m\u001b[0m\n\u001b[1;32m      3\u001b[0m \u001b[0;31m# Hint: look at the cluster_centers_ of the KMeans object to find the centroids\u001b[0m\u001b[0;34m\u001b[0m\u001b[0;34m\u001b[0m\u001b[0;34m\u001b[0m\u001b[0m\n\u001b[1;32m      4\u001b[0m \u001b[0;32mimport\u001b[0m \u001b[0mcollections\u001b[0m\u001b[0;34m\u001b[0m\u001b[0;34m\u001b[0m\u001b[0m\n\u001b[0;32m----> 5\u001b[0;31m \u001b[0mkmeans_obj\u001b[0m \u001b[0;34m=\u001b[0m \u001b[0mKMeans\u001b[0m\u001b[0;34m(\u001b[0m\u001b[0mn_clusters\u001b[0m\u001b[0;34m=\u001b[0m\u001b[0;36m10\u001b[0m\u001b[0;34m,\u001b[0m \u001b[0mmax_iter\u001b[0m\u001b[0;34m=\u001b[0m\u001b[0;36m1000\u001b[0m\u001b[0;34m)\u001b[0m\u001b[0;34m.\u001b[0m\u001b[0mfit\u001b[0m\u001b[0;34m(\u001b[0m\u001b[0mdf\u001b[0m\u001b[0;34m.\u001b[0m\u001b[0mvalues\u001b[0m\u001b[0;34m)\u001b[0m\u001b[0;34m\u001b[0m\u001b[0;34m\u001b[0m\u001b[0m\n\u001b[0m\u001b[1;32m      6\u001b[0m \u001b[0;34m\u001b[0m\u001b[0m\n\u001b[1;32m      7\u001b[0m \u001b[0mn_words\u001b[0m \u001b[0;34m=\u001b[0m \u001b[0;36m10\u001b[0m\u001b[0;34m\u001b[0m\u001b[0;34m\u001b[0m\u001b[0m\n",
      "\u001b[0;31mNameError\u001b[0m: name 'KMeans' is not defined"
     ]
    }
   ],
   "source": [
    "# 3a) apply k-means to our data with k=10 and print the first 10 words\n",
    "# that are the most associated with each cluster centroids\n",
    "# Hint: look at the cluster_centers_ of the KMeans object to find the centroids\n",
    "import collections\n",
    "kmeans_obj = KMeans(n_clusters=10, max_iter=1000).fit(df.values)\n",
    "\n",
    "n_words = 10\n",
    "top_words = collections.defaultdict(lambda: [])\n",
    "\n",
    "# iterate through each cluster\n",
    "for n in range(kmeans_obj.n_clusters):\n",
    "\n",
    "    print('CLUSTER ' + str(n+1) + ': ', end='')\n",
    "\n",
    "    # get the cluster centers\n",
    "    arr = kmeans_obj.cluster_centers_[n]\n",
    "\n",
    "    # sorts the array and keep the last n words\n",
    "    indices = arr.argsort()[-n_words:]\n",
    "\n",
    "    # add the words to the list of words\n",
    "    for i in indices:\n",
    "        print(vocabulary[i], end=', ')\n",
    "        top_words[n].append(vocabulary[i])\n",
    "        \n",
    "    print('')"
   ]
  },
  {
   "cell_type": "markdown",
   "metadata": {},
   "source": [
    "3b) interpret the cluster above; do they make sense to you?\n",
    "    1. latent models of students' knowledge and engagement\n",
    "    2. math performance / learning of students\n",
    "    3. semantic models of students learning\n",
    "    4. models to measure the similarity between items (of a test?)\n",
    "    5. models to predict students' learning using data\n",
    "    6. matrix factorization / models to predict grades during term\n",
    "    7. experiments on students' emotions, esteem, view of intelligence (?)\n",
    "    8. metatutor for slr learning\n",
    "    9. classification models to predict students' performance\n",
    "    10. models to estimate students' learning when solving the game foldit"
   ]
  },
  {
   "cell_type": "markdown",
   "metadata": {},
   "source": [
    "### Hierarchical clustering"
   ]
  },
  {
   "cell_type": "markdown",
   "metadata": {},
   "source": [
    "4) use hierarchical clustering on the data; feel free to refer to the datacamp lesson below: \n",
    "* https://campus.datacamp.com/courses/unsupervised-learning-in-python/visualization-with-hierarchical-clustering-and-t-sne?ex=3"
   ]
  },
  {
   "cell_type": "code",
   "execution_count": null,
   "metadata": {},
   "outputs": [],
   "source": [
    "#4a) plot the dendogram using the link above (method = complete)\n",
    "from scipy.cluster.hierarchy import linkage, dendrogram\n",
    "import matplotlib.pyplot as plt\n",
    "\n",
    "# Calculate the linkage: mergings\n",
    "mergings = linkage(df.values, method='complete', )\n",
    "\n",
    "# Plot the dendrogram, using varieties as labels\n",
    "dendrogram(mergings,\n",
    "           labels=df.columns,\n",
    "           leaf_rotation=90,\n",
    "           leaf_font_size=6,\n",
    ")\n",
    "plt.show()"
   ]
  },
  {
   "cell_type": "markdown",
   "metadata": {},
   "source": [
    "4b) was the dendodram useful?"
   ]
  },
  {
   "cell_type": "code",
   "execution_count": null,
   "metadata": {},
   "outputs": [],
   "source": [
    "#4c) we are going to use agglomerative clustering here \n",
    "# from the sklean library \n",
    "from sklearn.cluster import AgglomerativeClustering\n",
    "\n",
    "ward = AgglomerativeClustering(n_clusters=10, linkage='ward').fit(df.values)\n",
    "label = ward.labels_\n",
    "\n",
    "print(\"Number of points: %i\" % label.size)"
   ]
  },
  {
   "cell_type": "code",
   "execution_count": null,
   "metadata": {
    "scrolled": true
   },
   "outputs": [],
   "source": [
    "# 4d) compute the center of the cluster\n",
    "# unfortunately sklearn doesn't provide you with the centroids, but you can use the link below:\n",
    "# https://scikit-learn.org/stable/modules/generated/sklearn.neighbors.NearestCentroid.html\n",
    "from sklearn.neighbors.nearest_centroid import NearestCentroid\n",
    "import numpy as np\n",
    "\n",
    "clf = NearestCentroid()\n",
    "clf.fit(df.values, label)\n",
    "\n",
    "print(clf.centroids_.shape)"
   ]
  },
  {
   "cell_type": "code",
   "execution_count": null,
   "metadata": {},
   "outputs": [],
   "source": [
    "# 4e) print the top 10 words for each cluster centroid\n",
    "def visualize_clusters(df, n_clusters, centroids, n_words=10, printed=True):   \n",
    "    # try to get the most informative words of each cluster\n",
    "    words = {}\n",
    "    vocabulary = df.columns\n",
    "    for n in range(n_clusters):\n",
    "        words[n] = []\n",
    "        if printed: print('CLUSTER ' + str(n+1) + ': ', end='')\n",
    "        arr = centroids[n]\n",
    "        indices = arr.argsort()[-n_words:]\n",
    "        for i in indices:\n",
    "            if printed: print(vocabulary[i], end=', '),\n",
    "            words[n].append(vocabulary[i])\n",
    "        print('')\n",
    "    return words\n",
    "\n",
    "top_words = visualize_clusters(df, clf.centroids_.shape[0], clf.centroids_)"
   ]
  },
  {
   "cell_type": "markdown",
   "metadata": {},
   "source": [
    "4f) interpret the cluster above; do they make sense to you?"
   ]
  },
  {
   "cell_type": "markdown",
   "metadata": {},
   "source": [
    "### DBScan "
   ]
  },
  {
   "cell_type": "markdown",
   "metadata": {},
   "source": [
    "5) Use DBscan (with epsilon=5, min_samples=10) to cluster your data"
   ]
  },
  {
   "cell_type": "code",
   "execution_count": null,
   "metadata": {},
   "outputs": [],
   "source": [
    "# 5a) apply DBScan on your data\n",
    "from sklearn.cluster import DBSCAN\n",
    "\n",
    "dbscan = DBSCAN(eps=2, min_samples=3).fit(df.values)\n",
    "\n",
    "labels = dbscan.labels_\n",
    "\n",
    "print(\"Number of points: %i\" % label.size)"
   ]
  },
  {
   "cell_type": "code",
   "execution_count": null,
   "metadata": {},
   "outputs": [],
   "source": [
    "# 5b) find the cluster centroid (using the code from question 4d)\n",
    "clf = NearestCentroid()\n",
    "clf.fit(df.values, label)\n",
    "\n",
    "print(clf.centroids_.shape)"
   ]
  },
  {
   "cell_type": "code",
   "execution_count": null,
   "metadata": {},
   "outputs": [],
   "source": [
    "# 5c) print the top ten words\n",
    "top_words = visualize_clusters(df, clf.centroids_.shape[0], clf.centroids_)"
   ]
  },
  {
   "cell_type": "markdown",
   "metadata": {},
   "source": [
    "5d) How many clusters do you have? Do they make sense to you? Interpret them below. "
   ]
  },
  {
   "cell_type": "markdown",
   "metadata": {},
   "source": [
    "### NMF"
   ]
  },
  {
   "cell_type": "markdown",
   "metadata": {},
   "source": [
    "6) Use NMF to find topics in our dataset\n",
    "* https://campus.datacamp.com/courses/unsupervised-learning-in-python/discovering-interpretable-features?ex=3"
   ]
  },
  {
   "cell_type": "code",
   "execution_count": null,
   "metadata": {},
   "outputs": [],
   "source": [
    "# 6a) Use the code above to apply the NMF model\n",
    "from sklearn.preprocessing import MinMaxScaler\n",
    "\n",
    "scaler = MinMaxScaler()\n",
    "\n",
    "df[df.columns] = scaler.fit_transform(df[df.columns])\n",
    "\n",
    "# Import NMF\n",
    "from sklearn.decomposition import NMF\n",
    "\n",
    "# Create an NMF instance: model\n",
    "model = NMF(n_components=6)\n",
    "\n",
    "# Fit the model to articles\n",
    "model.fit(df.values)\n",
    "\n",
    "# Transform the articles: nmf_features\n",
    "nmf_features = model.transform(df.values)\n",
    "\n",
    "# Print the NMF features\n",
    "print(nmf_features)"
   ]
  },
  {
   "cell_type": "code",
   "execution_count": null,
   "metadata": {},
   "outputs": [],
   "source": [
    "# 6b) print the top ten words of each component\n",
    "import pandas as pd\n",
    "\n",
    "# Create a DataFrame: components_df\n",
    "components_df = pd.DataFrame(model.components_, columns=df.columns)\n",
    "\n",
    "for i in range(6):\n",
    "\n",
    "    # Select row 3: component\n",
    "    component = components_df.iloc[i,:]\n",
    "\n",
    "    # Print result of nlargest\n",
    "    print(component.nlargest(n=10), '\\n')"
   ]
  },
  {
   "cell_type": "markdown",
   "metadata": {},
   "source": [
    "6c) Interpret the cluster above; how do they compare to kmeans, hierarchical clustering and DBscan?"
   ]
  },
  {
   "cell_type": "markdown",
   "metadata": {},
   "source": [
    "## Step 10 - Visualizing the results"
   ]
  },
  {
   "cell_type": "markdown",
   "metadata": {},
   "source": [
    "### Clustering our data"
   ]
  },
  {
   "cell_type": "code",
   "execution_count": null,
   "metadata": {},
   "outputs": [],
   "source": [
    "# make sure you run the cells above (except the ones about clustering)\n",
    "# before you start working on the questions below"
   ]
  },
  {
   "cell_type": "code",
   "execution_count": null,
   "metadata": {},
   "outputs": [],
   "source": [
    "# 1) use k-means to find 10 clusters on the dataframe we just loaded\n",
    "from sklearn.cluster import KMeans\n",
    "\n",
    "kmeans_obj = KMeans(n_clusters=10, max_iter=1000).fit(df.values)\n"
   ]
  },
  {
   "cell_type": "code",
   "execution_count": null,
   "metadata": {},
   "outputs": [],
   "source": [
    "# we are providing you with the function below, which returns the \n",
    "# top ten words from each cluster \n",
    "import collections\n",
    "\n",
    "def get_top_words(kmeans, centers, n_words=10):\n",
    "    \n",
    "    top_words = collections.defaultdict(lambda: [])\n",
    "\n",
    "    # iterate through each cluster\n",
    "    for n in range(kmeans.n_clusters):\n",
    "\n",
    "        # get the cluster centers\n",
    "        arr = centers[n]\n",
    "\n",
    "        # sorts the array and keep the last n words\n",
    "        indices = arr.argsort()[-n_words:]\n",
    "\n",
    "        # add the words to the list of words\n",
    "        for i in indices:\n",
    "            top_words[n].append(vocabulary[i])\n",
    "    \n",
    "    return top_words"
   ]
  },
  {
   "cell_type": "code",
   "execution_count": null,
   "metadata": {},
   "outputs": [],
   "source": [
    "# 2) use the function above to get the top 10 words from each cluster\n",
    "#kmeans will show what for\n",
    "\n",
    "top_words = get_top_words(kmeans_obj, kmeans_obj.cluster_centers_,n_words=10)\n",
    "top_words"
   ]
  },
  {
   "cell_type": "code",
   "execution_count": null,
   "metadata": {},
   "outputs": [],
   "source": [
    "# 3) get ten colors from a bokeh palette\n",
    "# You can find the name of the palettes here: http://bokeh.pydata.org/en/latest/docs/reference/palettes.html\n",
    "# Here's how to import a palette: https://stackoverflow.com/questions/43757582/how-to-import-bokeh-palettes\n",
    "# use the palette called \"Category10\" and save a list of ten colors\n",
    "\n",
    "from bokeh.palettes import Category10\n",
    "colors = Category10[10]\n",
    "\n",
    "print(colors)\n"
   ]
  },
  {
   "cell_type": "code",
   "execution_count": null,
   "metadata": {},
   "outputs": [],
   "source": [
    "# 4) use the example below to print the top ten words of each cluster\n",
    "# in a different color using the HTML function \n",
    "from IPython.core.display import HTML\n",
    "\n",
    "color = '#1f77b4'\n",
    "\n",
    "HTML(\"<p>Cluster X: <font color=#1f77b4'>Word 1, Word 2, Word 3, Word 4, etc.</font></p>\")"
   ]
  },
  {
   "cell_type": "code",
   "execution_count": null,
   "metadata": {},
   "outputs": [],
   "source": [
    "# this is the output that you should get: \n",
    "\n",
    "html_text = \"\"\n",
    "\n",
    "for i in range(0,kmeans_obj.n_clusters):  \n",
    "    \n",
    "    #we get the 10 words for this cluster\n",
    "    \n",
    "    text = \"<p>Cluster \"+str(i)+\": <font color=\"+color[i]+\"'>Word 1, Word, Word 3, Word 4, etc.</font<>/p>'\"\n",
    "    \n",
    "    html_text += text\n",
    "    \n",
    "#we output the html\n",
    "HTML(html_text)\n"
   ]
  },
  {
   "cell_type": "markdown",
   "metadata": {},
   "source": [
    "### Create a visualization"
   ]
  },
  {
   "cell_type": "markdown",
   "metadata": {},
   "source": [
    "Our goal is to create the following visualization:\n",
    "<img src=\"https://www.dropbox.com/s/seftfrl4pcjua0o/Screenshot%202019-03-27%2017.05.58.png?raw=1\" />\n",
    "* each chunk is represented as a dot on the x-axis\n",
    "* the y-axis represents the cluster it has been assigned to\n",
    "* each dot is associated with the color of the cluster\n",
    "* each dot can be hovered to see the actual snippet of text"
   ]
  },
  {
   "cell_type": "markdown",
   "metadata": {},
   "source": [
    "To create our Bokeh visualization, we need to create a ColumnDataSource. We will make it from a dictionary first, and then convert it. The dictionary needs to contain the following information:\n",
    "* indices: a list of number from 0,1,2,3 ... until the number of chunks (2219) for the x-axis\n",
    "* chunk: the actual segment of text (we will display it on the visualization)\n",
    "* cluster: the cluster assigned to this chunk (used for the y-axis)\n",
    "* document: the id of the document this chunk is from (i.e., from 0 until 17)\n",
    "* palette: the color assigned to this cluster\n",
    "    \n",
    "IMPORTANT: the values of this dictionary should list of equal length (i.e., the number of chunks = 2219) for Bokeh to work with our dataset."
   ]
  },
  {
   "cell_type": "code",
   "execution_count": 6,
   "metadata": {},
   "outputs": [
    {
     "ename": "NameError",
     "evalue": "name 'df' is not defined",
     "output_type": "error",
     "traceback": [
      "\u001b[0;31m---------------------------------------------------------------------------\u001b[0m",
      "\u001b[0;31mNameError\u001b[0m                                 Traceback (most recent call last)",
      "\u001b[0;32m<ipython-input-6-d4146d1dddec>\u001b[0m in \u001b[0;36m<module>\u001b[0;34m\u001b[0m\n\u001b[1;32m      1\u001b[0m \u001b[0;31m# 5) create a list of indices from zero to the number of chunks\u001b[0m\u001b[0;34m\u001b[0m\u001b[0;34m\u001b[0m\u001b[0;34m\u001b[0m\u001b[0m\n\u001b[0;32m----> 2\u001b[0;31m \u001b[0mindices\u001b[0m \u001b[0;34m=\u001b[0m \u001b[0mdf\u001b[0m\u001b[0;34m.\u001b[0m\u001b[0mindex\u001b[0m\u001b[0;34m\u001b[0m\u001b[0;34m\u001b[0m\u001b[0m\n\u001b[0m",
      "\u001b[0;31mNameError\u001b[0m: name 'df' is not defined"
     ]
    }
   ],
   "source": [
    "# 5) create a list of indices from zero to the number of chunks\n",
    "indices = df.index"
   ]
  },
  {
   "cell_type": "code",
   "execution_count": 5,
   "metadata": {},
   "outputs": [
    {
     "ename": "NameError",
     "evalue": "name 'chunks' is not defined",
     "output_type": "error",
     "traceback": [
      "\u001b[0;31m---------------------------------------------------------------------------\u001b[0m",
      "\u001b[0;31mNameError\u001b[0m                                 Traceback (most recent call last)",
      "\u001b[0;32m<ipython-input-5-c85eb790da5b>\u001b[0m in \u001b[0;36m<module>\u001b[0;34m\u001b[0m\n\u001b[1;32m      1\u001b[0m \u001b[0;31m# 6) create a list of chunks\u001b[0m\u001b[0;34m\u001b[0m\u001b[0;34m\u001b[0m\u001b[0;34m\u001b[0m\u001b[0m\n\u001b[1;32m      2\u001b[0m \u001b[0mlist_of_chunks\u001b[0m \u001b[0;34m=\u001b[0m \u001b[0;34m[\u001b[0m\u001b[0;34m]\u001b[0m\u001b[0;34m\u001b[0m\u001b[0;34m\u001b[0m\u001b[0m\n\u001b[0;32m----> 3\u001b[0;31m \u001b[0;32mfor\u001b[0m \u001b[0mchunk\u001b[0m \u001b[0;32min\u001b[0m \u001b[0mchunks\u001b[0m\u001b[0;34m:\u001b[0m\u001b[0;34m\u001b[0m\u001b[0;34m\u001b[0m\u001b[0m\n\u001b[0m\u001b[1;32m      4\u001b[0m     \u001b[0mchunk\u001b[0m\u001b[0;34m=\u001b[0m\u001b[0;34m''\u001b[0m\u001b[0;34m.\u001b[0m\u001b[0mjoin\u001b[0m\u001b[0;34m(\u001b[0m\u001b[0mchunk\u001b[0m\u001b[0;34m)\u001b[0m\u001b[0;34m\u001b[0m\u001b[0;34m\u001b[0m\u001b[0m\n\u001b[1;32m      5\u001b[0m     \u001b[0mlist_of_chunk\u001b[0m\u001b[0;34m.\u001b[0m\u001b[0mappend\u001b[0m\u001b[0;34m(\u001b[0m\u001b[0mchunk\u001b[0m\u001b[0;34m)\u001b[0m\u001b[0;34m\u001b[0m\u001b[0;34m\u001b[0m\u001b[0m\n",
      "\u001b[0;31mNameError\u001b[0m: name 'chunks' is not defined"
     ]
    }
   ],
   "source": [
    "# 6) create a list of chunks\n",
    "list_of_chunks = []\n",
    "for chunk in chunks: \n",
    "    chunk=''.join(chunk)\n",
    "    list_of_chunk.append(chunk)"
   ]
  },
  {
   "cell_type": "code",
   "execution_count": null,
   "metadata": {},
   "outputs": [],
   "source": [
    "# 7) retrieve the list of labels assigned to each chunk\n",
    "labels = kmeans.labels_"
   ]
  },
  {
   "cell_type": "code",
   "execution_count": null,
   "metadata": {},
   "outputs": [],
   "source": [
    "# 8) create a list that assigns the corresponding cluster color to each chunk\n",
    "palette = []\n",
    "for label in labels: \n",
    "    color = Category10[10][label]\n",
    "    palette.append(color)"
   ]
  },
  {
   "cell_type": "code",
   "execution_count": null,
   "metadata": {},
   "outputs": [],
   "source": [
    "# 9) retrieve which document each chunk corresponds to\n",
    "doc_id = []\n",
    "current_doc = 0\n",
    "\n",
    "# we go through all the chunks\n",
    "for chunk in chunks:\n",
    "    \n",
    "    # if the chunk is the next document, we increment current_doc (i.e, +=1)\n",
    "    if chunk =''.join(doc[current_doc]) +=1 \n",
    "        \n",
    "    # we add the current_doc number to doc_ic\n",
    "    current_doc.append(doc_ic)\n",
    "    \n",
    "    pass"
   ]
  },
  {
   "cell_type": "code",
   "execution_count": null,
   "metadata": {},
   "outputs": [],
   "source": [
    "# 10) sanity check: each list should have the same length (2219)\n",
    "print(len(indices))\n",
    "print(len(list_of_chunks))\n",
    "print(len(labels))\n",
    "print(len(doc_id))\n",
    "print(len(palette))"
   ]
  },
  {
   "cell_type": "code",
   "execution_count": null,
   "metadata": {},
   "outputs": [],
   "source": [
    "# 11) create a dictionary using the lists from above\n",
    "master = {'indices': indices,\n",
    "          'chunk': list_of_chunks, \n",
    "          'cluster': labels,\n",
    "          'document': doc_id, \n",
    "          'palette': palette }"
   ]
  },
  {
   "cell_type": "code",
   "execution_count": null,
   "metadata": {},
   "outputs": [],
   "source": [
    "# 12) create a dataframe called master_df that converts \n",
    "# the dictionary into a pandas dataframe\n",
    "master_df = pd.DataFrame()\n",
    "\n",
    "# this is the output that you should get: "
   ]
  },
  {
   "cell_type": "code",
   "execution_count": null,
   "metadata": {},
   "outputs": [],
   "source": [
    "# 13) create the plot using circles (don't worry about colors for now)\n",
    "# you should get the plot above, but with blue circles\n",
    "# Use this link as a starting point: https://campus.datacamp.com/courses/interactive-data-visualization-with-bokeh/basic-plotting-with-bokeh?ex=14\n",
    "from bokeh.plotting import ColumnDataSource, figure,show\n",
    "from bokeh.io import output_notebook, curdoc\n",
    "from bokeh.models import HoverTool, Select, Slider\n",
    "from bokeh.layouts import row, column\n"
   ]
  },
  {
   "cell_type": "code",
   "execution_count": null,
   "metadata": {},
   "outputs": [],
   "source": [
    "# 14) add colors to your plot (i.e., the color of the cluster)\n",
    "\n"
   ]
  },
  {
   "cell_type": "code",
   "execution_count": null,
   "metadata": {},
   "outputs": [],
   "source": [
    "# 15) add a hover tool that display the actual chunk of text\n",
    "\n"
   ]
  },
  {
   "cell_type": "markdown",
   "metadata": {},
   "source": [
    "### Optional questions"
   ]
  },
  {
   "cell_type": "code",
   "execution_count": null,
   "metadata": {},
   "outputs": [],
   "source": [
    "# 16) create a slider that allows to slide through documents\n",
    "# https://github.com/bokeh/bokeh/blob/master/examples/howto/server_embed/notebook_embed.ipynb\n"
   ]
  },
  {
   "cell_type": "code",
   "execution_count": null,
   "metadata": {},
   "outputs": [],
   "source": [
    "# 17) create your own visualization! "
   ]
  },
  {
   "cell_type": "markdown",
   "metadata": {},
   "source": [
    "## Final Step - Putting it all together: "
   ]
  },
  {
   "cell_type": "code",
   "execution_count": null,
   "metadata": {},
   "outputs": [],
   "source": [
    "def visualize_clusters(results_clustering, top_words, vocabulary):\n",
    "    text = \"\"\n",
    "\n",
    "    for cluster, words in top_words.items(): \n",
    "        words = \" \".join(words)\n",
    "        color = colors[cluster]\n",
    "        text += \"<p>Cluster \"+str(cluster)+\": <font color='\"+color+\"'>\"+words+\"</font></p>\"\n",
    "\n",
    "    return text"
   ]
  },
  {
   "cell_type": "code",
   "execution_count": null,
   "metadata": {},
   "outputs": [],
   "source": [
    "# in python code, our goal is to recreate the steps above as functions\n",
    "# so that we can just one line to run topic modeling on a list of \n",
    "# documents: \n",
    "def ExtractTopicsVSM(documents, numTopics):\n",
    "    ''' this functions takes in a list of documents (strings), \n",
    "        runs topic modeling (as implemented by Sherin, 2013)\n",
    "        and returns the clustering results, the matrix used \n",
    "        for clustering a visualization '''\n",
    "    \n",
    "    # step 2: clean up the documents\n",
    "    documents = clean_list_of_documents(documents)\n",
    "    \n",
    "    # step 3: let's build the vocabulary of these docs\n",
    "    vocabulary = get_vocabulary(documents)\n",
    "    \n",
    "    # step 4: we build our list of 100-words overlapping fragments\n",
    "    documents = flatten_and_overlap(documents)\n",
    "    \n",
    "    # step 5: we convert the chunks into a matrix\n",
    "    df = docs_by_words_df(documents, vocabulary)\n",
    "    \n",
    "    # step 6: we weight the frequency of words (count = 1 + log(count))\n",
    "    df.values = one_plus_log_mat(df)\n",
    "    \n",
    "    # step 7: we normalize the matrix\n",
    "    df.values = normalize_df(df, method='Normalizer')\n",
    "    \n",
    "    # step 8: we compute deviatio vectors\n",
    "    df = transform_deviation_vectors(df)\n",
    "    \n",
    "    # step 9: we apply a clustering algorithm to find topics\n",
    "    results_clustering = KMeans(n_clusters=numTopics, max_iter=1000).fit(df.values)\n",
    "    \n",
    "    # step 10: we get the top words for each cluster\n",
    "    top_words = get_top_words(results_clustering, results_clustering.cluster_centers_)\n",
    "    \n",
    "    # step 11: we create a visualization for the topics\n",
    "    visualization = visualize_clusters(results_clustering, top_words, vocabulary)\n",
    "    \n",
    "    # finally, we return the clustering results, the matrix, and a visualization\n",
    "    return results_clustering, df, top_words, visualization"
   ]
  },
  {
   "cell_type": "code",
   "execution_count": null,
   "metadata": {},
   "outputs": [],
   "source": [
    "# we run the entire pipeline\n",
    "results_clustering, df, top_words, visualization = ExtractTopicsVSM(documents, 10)"
   ]
  },
  {
   "cell_type": "code",
   "execution_count": null,
   "metadata": {},
   "outputs": [],
   "source": [
    "# we print the resulting labels\n",
    "results_clustering.labels_"
   ]
  },
  {
   "cell_type": "code",
   "execution_count": null,
   "metadata": {},
   "outputs": [],
   "source": [
    "# we print the top words for each cluster\n",
    "for cluster,words in top_words.items():\n",
    "    print(\"Cluster: \", cluster, \", \".join(words))"
   ]
  },
  {
   "cell_type": "code",
   "execution_count": null,
   "metadata": {},
   "outputs": [],
   "source": [
    "# We print them with color\n",
    "HTML(visualization)"
   ]
  }
 ],
 "metadata": {
  "kernelspec": {
   "display_name": "Python 3",
   "language": "python",
   "name": "python3"
  },
  "language_info": {
   "codemirror_mode": {
    "name": "ipython",
    "version": 3
   },
   "file_extension": ".py",
   "mimetype": "text/x-python",
   "name": "python",
   "nbconvert_exporter": "python",
   "pygments_lexer": "ipython3",
   "version": "3.7.1"
  },
  "toc": {
   "base_numbering": 1,
   "nav_menu": {},
   "number_sections": true,
   "sideBar": true,
   "skip_h1_title": false,
   "title_cell": "Table of Contents",
   "title_sidebar": "Contents",
   "toc_cell": false,
   "toc_position": {},
   "toc_section_display": true,
   "toc_window_display": false
  },
  "varInspector": {
   "cols": {
    "lenName": 16,
    "lenType": 16,
    "lenVar": 40
   },
   "kernels_config": {
    "python": {
     "delete_cmd_postfix": "",
     "delete_cmd_prefix": "del ",
     "library": "var_list.py",
     "varRefreshCmd": "print(var_dic_list())"
    },
    "r": {
     "delete_cmd_postfix": ") ",
     "delete_cmd_prefix": "rm(",
     "library": "var_list.r",
     "varRefreshCmd": "cat(var_dic_list()) "
    }
   },
   "types_to_exclude": [
    "module",
    "function",
    "builtin_function_or_method",
    "instance",
    "_Feature"
   ],
   "window_display": false
  }
 },
 "nbformat": 4,
 "nbformat_minor": 2
}
